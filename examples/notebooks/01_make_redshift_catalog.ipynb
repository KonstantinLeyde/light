{
 "cells": [
  {
   "cell_type": "code",
   "execution_count": null,
   "id": "5d15cd14-049f-4803-bacd-02199289e3ad",
   "metadata": {},
   "outputs": [],
   "source": [
    "import numpy as np\n",
    "import seaborn as sns\n",
    "import matplotlib.patches as patches\n",
    "from matplotlib import pyplot as plt\n",
    "import os\n",
    "\n",
    "from astropy.cosmology import FlatLambdaCDM\n",
    "\n",
    "# load the relevant modules from the light package\n",
    "import light.catalog.catalog as catalog_module\n",
    "import light.utils.conventions as conventions\n",
    "\n",
    "hist_kwargs = {'bins': 'auto', 'histtype': 'step', 'density': True}"
   ]
  },
  {
   "cell_type": "markdown",
   "id": "70ea7fde",
   "metadata": {},
   "source": [
    "The following cells load the raw catalog data as a pandas frame. This can be replaced by \n",
    "your favourite method of loading data."
   ]
  },
  {
   "cell_type": "code",
   "execution_count": null,
   "id": "b2e7a27f",
   "metadata": {},
   "outputs": [],
   "source": [
    "galaxies_percentage, box_size = 0.1, 150 # 10% of the galaxies in a 150 Mpc/h box, for testing\n",
    "catalog_origin = 'millenium_bertone2007a'"
   ]
  },
  {
   "cell_type": "code",
   "execution_count": null,
   "id": "e6da2604",
   "metadata": {},
   "outputs": [],
   "source": [
    "# for example, download the millennium simulation catalog through \n",
    "# more details here: http://virgodb.dur.ac.uk:8080/MyMillennium/Help?page=demo/genericqueries\n",
    "\n",
    "# make folder\n",
    "output_path = f'./my_data/'\n",
    "os.makedirs(output_path, exist_ok=True)\n",
    "\n",
    "# Define variables\n",
    "catalog_file_name_original = f'{output_path}{catalog_origin}_{galaxies_percentage}_{box_size}Mpc.csv'\n",
    "username = \"YOURUSENAME\"\n",
    "password = \"YOURPASSWORD\"\n",
    "\n",
    "# compute until what random integer the galaxies are selected\n",
    "int_random = int(1e6 * galaxies_percentage)\n",
    "# Define the URL with the SQL query\n",
    "url = '\"' + f'http://virgodb.dur.ac.uk:8080/MyMillennium?action=doQuery&SQL=select \\\n",
    "    mag_k, x, y, z from mpagalaxies..Bertone2007a where snapnum=63 and \\\n",
    "    random between 0 and {int_random} and mag_k < 98 and \\\n",
    "    x between 0 and {box_size} and \\\n",
    "    y between 0 and {box_size} and \\\n",
    "    z between 0 and {box_size}' + '\"'\n",
    "\n",
    "# Run wget command with subprocess\n",
    "download_command = ' '.join([\n",
    "    \"wget\",\n",
    "    \"-O\", catalog_file_name_original,\n",
    "    \"--http-user\", username,\n",
    "    \"--http-passwd\", password,\n",
    "    url\n",
    "])\n",
    "\n"
   ]
  },
  {
   "cell_type": "code",
   "execution_count": null,
   "id": "f392b373",
   "metadata": {},
   "outputs": [],
   "source": [
    "! {download_command}"
   ]
  },
  {
   "cell_type": "code",
   "execution_count": null,
   "id": "c51a29ad-699c-43c4-ab46-4522e44d27ad",
   "metadata": {},
   "outputs": [],
   "source": [
    "# load the catalog df\n",
    "catalog_df = catalog_module.load_catalog_df(\n",
    "    catalog_origin=catalog_origin,\n",
    "    catalog_file_name_original=catalog_file_name_original,\n",
    "    data_folder=''\n",
    ")\n",
    "display(catalog_df)"
   ]
  },
  {
   "cell_type": "markdown",
   "id": "320da1c2",
   "metadata": {},
   "source": [
    "This converts the catalog df in the different files that are relevant for the analysis, namely a list of the magnitudes, the list of redshifts, the number counts in each voxel etc. \n",
    "\n",
    "The cell after this cell serve for plotting or demonstrate other options, such as \n",
    "- Selected pixels with an increased magnitude threshold or \n",
    "- Redshift uncertainties"
   ]
  },
  {
   "cell_type": "code",
   "execution_count": null,
   "id": "d081709f",
   "metadata": {},
   "outputs": [],
   "source": [
    "Z_offset, redshift_num_bins, m_threshold = 300, 10, 17\n",
    "pixel_length = box_size / redshift_num_bins\n",
    "cosmology = FlatLambdaCDM(H0=73, Om0=0.25, Ob0=0.05)\n",
    "\n",
    "catalog = catalog_module.SimulatedCatalog(\n",
    "    catalog=catalog_df,\n",
    "    pixel_length_in_Mpc_comoving=[pixel_length, pixel_length, pixel_length],\n",
    "    m_threshold=m_threshold,\n",
    "    cosmology=cosmology,\n",
    "    galaxies_percentage=galaxies_percentage,\n",
    "    Z_offset=Z_offset,\n",
    "    zmax=2,\n",
    "    pixelation='redshift',\n",
    "    redshift_num_bins=redshift_num_bins,\n",
    "    box_size_d=[box_size,box_size,box_size],\n",
    "    redshift_error_settings={},\n",
    ")\n",
    "\n",
    "catalog.save_matrices(output_path)\n"
   ]
  },
  {
   "cell_type": "code",
   "execution_count": null,
   "id": "d88d21e6-1011-4895-8c1a-184e0847093e",
   "metadata": {},
   "outputs": [],
   "source": [
    "plot_kwargs = {'fontsize': 17}\n",
    "\n",
    "fig, ax = plt.subplots(figsize=(15, 9))\n",
    "\n",
    "idx_X_slice = catalog.catalog['X_bin'] == 25\n",
    "y_values = catalog.catalog['Z'][idx_X_slice]\n",
    "z_values = catalog.catalog['Y'][idx_X_slice]\n",
    "\n",
    "# Create a scatter plot\n",
    "red_scatter = ax.scatter(y_values, z_values, alpha=0.6, s=0.1, c='red')\n",
    "ax.set_xlabel(r'$Z$ [Mpc/$h$]', **plot_kwargs)\n",
    "ax.set_ylabel(r'$Y$ [Mpc/$h$]', **plot_kwargs)\n",
    "\n",
    "# Create the inset plot\n",
    "selected_catalog = catalog.catalog[idx_X_slice]\n",
    "idx_Y, idx_Z = 13, 6\n",
    "idx = (selected_catalog['Y_bin'] == idx_Y) * (selected_catalog['Z_bin'] == idx_Z)\n",
    "selected_catalog = selected_catalog[idx]\n",
    "blue_scatter = ax.scatter(selected_catalog['Z'], selected_catalog['Y'], alpha=0.6, s=1, c='blue')\n",
    "\n",
    "# Determine the boundaries of the rectangle\n",
    "pixel_length = catalog.pixel_length_in_Mpc_comoving[2]\n",
    "min_y, max_y = idx_Y * pixel_length, (idx_Y + 1) * pixel_length \n",
    "min_z, max_z = idx_Z * pixel_length, (idx_Z + 1) * pixel_length \n",
    "\n",
    "# Create the transparent rectangle\n",
    "rect = patches.Rectangle((min_z, min_y), max_z - min_z, max_y - min_y, linewidth=3, edgecolor='green', facecolor='none', alpha=0.3)\n",
    "ax.add_patch(rect)\n",
    "\n",
    "axins = ax.inset_axes([0.98, 0.55, 0.5, 0.5])\n",
    "axins.scatter(z_values, y_values, alpha=1, s=4, c='red')\n",
    "axins.scatter(selected_catalog['Z'], selected_catalog['Y'], alpha=1, s=4, c='blue')\n",
    "axins.set_xlim(25, 40)\n",
    "axins.set_ylim(60, 75)\n",
    "\n",
    "\n",
    "rect = patches.Rectangle((min_z, min_y), max_z - min_z, max_y - min_y, linewidth=4.2, edgecolor='green', facecolor='none', alpha=0.3)\n",
    "axins.add_patch(rect)\n",
    "ax.indicate_inset_zoom(axins, lw=2, edgecolor=\"black\")\n",
    "\n",
    "# Save the figure\n",
    "ax.set_aspect('equal', adjustable='box')\n",
    "axins.set_aspect('equal', adjustable='box')\n",
    "plt.tight_layout()\n",
    "# fig.savefig('./plots/catalog_example_with_inset.png')\n",
    "\n",
    "plt.show()\n"
   ]
  },
  {
   "cell_type": "code",
   "execution_count": null,
   "id": "2b26e80a-8340-4737-bf5f-8cc5ba7ce199",
   "metadata": {},
   "outputs": [],
   "source": [
    "from matplotlib.colors import LogNorm\n",
    "class ShiftedLogNorm(LogNorm):\n",
    "    def __init__(self, vmin=None, vmax=None, clip=True, epsilon=1e-5, value_epsilon=0):\n",
    "        self.epsilon = epsilon\n",
    "        self.value_epsilon = value_epsilon\n",
    "\n",
    "        if(vmin is not None):\n",
    "            vmin = max(vmin, epsilon) # Ensure vmin is at least epsilon\n",
    "\n",
    "        super().__init__(vmin=vmin, vmax=vmax, clip=clip)\n",
    "    \n",
    "    def __call__(self, value, clip=None):\n",
    "        \"\"\"\n",
    "        Shift the input data by epsilon before applying LogNorm.\n",
    "        \"\"\"\n",
    "        shifted_value = value + self.value_epsilon\n",
    "        return super().__call__(shifted_value, clip)"
   ]
  },
  {
   "cell_type": "code",
   "execution_count": null,
   "id": "5e86a902-8e11-4db7-8d3d-062a7e55d5bf",
   "metadata": {},
   "outputs": [],
   "source": [
    "idx_X = 6\n",
    "matrix = catalog.matrix_bin_counts.to_numpy().reshape(catalog.box_shape_d)[idx_X]\n",
    "            \n",
    "# Plotting the color matrix\n",
    "plt.figure(figsize=(10, 8))\n",
    "norm = ShiftedLogNorm(**dict(vmin=0, vmax=np.percentile(catalog.matrix_bin_counts.max(), 100), epsilon=1e-1))\n",
    "sns.heatmap(np.flip(matrix, axis = (0)), annot=True, fmt='g', cmap=conventions.custom_cmap, norm=norm)\n",
    "plt.xticks([])\n",
    "plt.yticks([])\n",
    "plt.title('Galaxy Count Matrix')\n",
    "plt.show()"
   ]
  },
  {
   "cell_type": "code",
   "execution_count": null,
   "id": "b55ebf6a-20da-43ad-a4fd-ff27ed752c26",
   "metadata": {},
   "outputs": [],
   "source": [
    "matrix = catalog.matrix_bin_counts_obs.to_numpy().reshape(catalog.box_shape_d)[idx_X]\n",
    "\n",
    "# Plotting the color matrix\n",
    "plt.figure(figsize=(18, 15))\n",
    "norm = ShiftedLogNorm(**dict(vmin=0, vmax=np.percentile(catalog.matrix_bin_counts.max(), 100), epsilon=1e-1))\n",
    "sns.heatmap(np.flip(matrix, axis = (0)), annot=True, fmt='g', cmap=conventions.custom_cmap, norm=norm)\n",
    "plt.xticks([])\n",
    "plt.yticks([])\n",
    "plt.title('Galaxy Count Matrix')\n",
    "plt.show()"
   ]
  },
  {
   "cell_type": "markdown",
   "id": "3432c65f",
   "metadata": {},
   "source": [
    "# Additional options\n",
    "### 1. Special pixels that have a deeper magnitude limit"
   ]
  },
  {
   "cell_type": "code",
   "execution_count": null,
   "id": "2a645a97",
   "metadata": {},
   "outputs": [],
   "source": [
    "special_deep_pixels = [\n",
    "    dict(X_bin=i, Y_bin=ii, m_threshold=24) for i in range(0,redshift_num_bins // 10) for ii in range(0,redshift_num_bins//10)\n",
    "]\n",
    "print(special_deep_pixels)\n",
    "\n",
    "\n",
    "Z_offset, redshift_num_bins, m_threshold = 300, 10, 17\n",
    "pixel_length = box_size / redshift_num_bins\n",
    "cosmology = FlatLambdaCDM(H0=73, Om0=0.25, Ob0=0.05)\n"
   ]
  },
  {
   "cell_type": "code",
   "execution_count": null,
   "id": "198d1a32",
   "metadata": {},
   "outputs": [],
   "source": [
    "catalog = catalog_module.SimulatedCatalog(\n",
    "    catalog=catalog_df,\n",
    "    pixel_length_in_Mpc_comoving=[pixel_length, pixel_length, pixel_length],\n",
    "    m_threshold=m_threshold,\n",
    "    cosmology=cosmology,\n",
    "    galaxies_percentage=galaxies_percentage,\n",
    "    Z_offset=Z_offset,\n",
    "    zmax=2,\n",
    "    pixelation='redshift',\n",
    "    redshift_num_bins=redshift_num_bins,\n",
    "    box_size_d=[box_size,box_size,box_size],\n",
    "    special_deep_pixels=special_deep_pixels,\n",
    ")\n",
    "\n",
    "# output_path = './my_data/'\n",
    "# catalog.save_matrices()"
   ]
  },
  {
   "cell_type": "markdown",
   "id": "6a4f052b",
   "metadata": {},
   "source": [
    "### 2. Redshift uncertainties"
   ]
  },
  {
   "cell_type": "code",
   "execution_count": null,
   "id": "154d79c2",
   "metadata": {},
   "outputs": [],
   "source": [
    "catalog = catalog_module.SimulatedCatalog(\n",
    "    catalog=catalog_df,\n",
    "    pixel_length_in_Mpc_comoving=[pixel_length, pixel_length, pixel_length],\n",
    "    m_threshold=m_threshold,\n",
    "    cosmology=cosmology,\n",
    "    galaxies_percentage=galaxies_percentage,\n",
    "    Z_offset=Z_offset,\n",
    "    zmax=2,\n",
    "    pixelation='redshift',\n",
    "    redshift_num_bins=redshift_num_bins,\n",
    "    box_size_d=[box_size,box_size,box_size],\n",
    "    special_deep_pixels=[],\n",
    "    redshift_error_settings={'z_error':0.001},\n",
    ")\n",
    "\n",
    "# output_path = './my_data/'\n",
    "# catalog.save_matrices()"
   ]
  }
 ],
 "metadata": {
  "kernelspec": {
   "display_name": "light-env",
   "language": "python",
   "name": "python3"
  },
  "language_info": {
   "codemirror_mode": {
    "name": "ipython",
    "version": 3
   },
   "file_extension": ".py",
   "mimetype": "text/x-python",
   "name": "python",
   "nbconvert_exporter": "python",
   "pygments_lexer": "ipython3",
   "version": "3.11.10"
  }
 },
 "nbformat": 4,
 "nbformat_minor": 5
}
